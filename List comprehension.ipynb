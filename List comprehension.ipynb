{
 "cells": [
  {
   "cell_type": "code",
   "execution_count": 2,
   "id": "1b6504ff",
   "metadata": {},
   "outputs": [],
   "source": [
    "lst1=[]\n",
    "def Square(lst):\n",
    "    for i in lst:\n",
    "        lst1.append(i*i)\n",
    "    return lst1"
   ]
  },
  {
   "cell_type": "code",
   "execution_count": 4,
   "id": "b31f2c19",
   "metadata": {},
   "outputs": [
    {
     "data": {
      "text/plain": [
       "[1, 25, 36, 64, 81, 2025, 4225, 5625]"
      ]
     },
     "execution_count": 4,
     "metadata": {},
     "output_type": "execute_result"
    }
   ],
   "source": [
    "Square([1,5,6,8,9,45,65,75])"
   ]
  },
  {
   "cell_type": "code",
   "execution_count": 7,
   "id": "f9917419",
   "metadata": {},
   "outputs": [
    {
     "name": "stdout",
     "output_type": "stream",
     "text": [
      "[1, 25, 81, 2025, 4225, 5625]\n"
     ]
    }
   ],
   "source": [
    "lst = [1,5,6,8,9,45,65,75]\n",
    "lst1 = [i*i for i in lst if i%2!=0]\n",
    "print(lst1)"
   ]
  },
  {
   "cell_type": "code",
   "execution_count": 9,
   "id": "206586e6",
   "metadata": {},
   "outputs": [],
   "source": [
    "def Welcome(name, age=21):\n",
    "    return \"your name is {} and age is {}\".format(name,age)"
   ]
  },
  {
   "cell_type": "code",
   "execution_count": 11,
   "id": "0746e9a9",
   "metadata": {},
   "outputs": [
    {
     "data": {
      "text/plain": [
       "'your name is Chiranjeev and age is 20'"
      ]
     },
     "execution_count": 11,
     "metadata": {},
     "output_type": "execute_result"
    }
   ],
   "source": [
    "Welcome(\"Chiranjeev\",20)"
   ]
  },
  {
   "cell_type": "code",
   "execution_count": null,
   "id": "4a1e32d5",
   "metadata": {},
   "outputs": [],
   "source": []
  }
 ],
 "metadata": {
  "kernelspec": {
   "display_name": "Python 3 (ipykernel)",
   "language": "python",
   "name": "python3"
  },
  "language_info": {
   "codemirror_mode": {
    "name": "ipython",
    "version": 3
   },
   "file_extension": ".py",
   "mimetype": "text/x-python",
   "name": "python",
   "nbconvert_exporter": "python",
   "pygments_lexer": "ipython3",
   "version": "3.9.12"
  }
 },
 "nbformat": 4,
 "nbformat_minor": 5
}
