{
 "cells": [
  {
   "cell_type": "code",
   "execution_count": 1,
   "id": "36e014ae",
   "metadata": {},
   "outputs": [],
   "source": [
    "def hello(name,age = 21):\n",
    "    print(\"my name is {} and age is {}\".format(name,age))\n"
   ]
  },
  {
   "cell_type": "code",
   "execution_count": 3,
   "id": "fd41508f",
   "metadata": {},
   "outputs": [
    {
     "name": "stdout",
     "output_type": "stream",
     "text": [
      "my name is chiranjeev and age is 21\n"
     ]
    }
   ],
   "source": [
    "hello(\"chiranjeev\")"
   ]
  },
  {
   "cell_type": "code",
   "execution_count": 4,
   "id": "2f806f47",
   "metadata": {},
   "outputs": [],
   "source": [
    "def hello1(*args,**kwargs):\n",
    "    print(args)\n",
    "    print(kwargs)"
   ]
  },
  {
   "cell_type": "code",
   "execution_count": 7,
   "id": "ae235112",
   "metadata": {},
   "outputs": [
    {
     "name": "stdout",
     "output_type": "stream",
     "text": [
      "('cj', 'batra')\n",
      "{'age': 21}\n"
     ]
    }
   ],
   "source": [
    "hello1(\"cj\",\"batra\",age=21)"
   ]
  },
  {
   "cell_type": "code",
   "execution_count": 8,
   "id": "e667998a",
   "metadata": {},
   "outputs": [],
   "source": [
    "lst = {'cj', 'batra'}\n",
    "dict_arg = {'age': 21}"
   ]
  },
  {
   "cell_type": "code",
   "execution_count": 10,
   "id": "dad4033c",
   "metadata": {},
   "outputs": [
    {
     "name": "stdout",
     "output_type": "stream",
     "text": [
      "('batra', 'cj')\n",
      "{'age': 21}\n"
     ]
    }
   ],
   "source": [
    "hello1(*lst,**dict_arg)"
   ]
  },
  {
   "cell_type": "code",
   "execution_count": 11,
   "id": "388e90e2",
   "metadata": {},
   "outputs": [],
   "source": [
    "lst = {1,2,3,4,5,6,7,8,9,10,11,12,13}"
   ]
  },
  {
   "cell_type": "code",
   "execution_count": 12,
   "id": "3cade022",
   "metadata": {},
   "outputs": [],
   "source": [
    "def sum(lst):\n",
    "    even_sum = 0\n",
    "    odd_sum =0\n",
    "    for i in lst:\n",
    "        if i%2 ==0:\n",
    "            even_sum = i+even_sum\n",
    "        else:\n",
    "            odd_sum = odd_sum+i\n",
    "    return even_sum,odd_sum\n",
    "            "
   ]
  },
  {
   "cell_type": "code",
   "execution_count": 13,
   "id": "1e6847ce",
   "metadata": {},
   "outputs": [
    {
     "data": {
      "text/plain": [
       "(42, 49)"
      ]
     },
     "execution_count": 13,
     "metadata": {},
     "output_type": "execute_result"
    }
   ],
   "source": [
    "sum(lst)"
   ]
  },
  {
   "cell_type": "code",
   "execution_count": 16,
   "id": "23ac2e7f",
   "metadata": {},
   "outputs": [],
   "source": [
    "even = lambda a:a%2==0"
   ]
  },
  {
   "cell_type": "code",
   "execution_count": 18,
   "id": "068bfd45",
   "metadata": {},
   "outputs": [
    {
     "data": {
      "text/plain": [
       "True"
      ]
     },
     "execution_count": 18,
     "metadata": {},
     "output_type": "execute_result"
    }
   ],
   "source": [
    "even(42)"
   ]
  },
  {
   "cell_type": "code",
   "execution_count": 19,
   "id": "035292e2",
   "metadata": {},
   "outputs": [],
   "source": [
    "def even_odd(num):\n",
    "    if num%2==0:\n",
    "        return \"The number {} is even\".format(num)\n",
    "    else:\n",
    "        return \"The number {} is odd\".format(num)"
   ]
  },
  {
   "cell_type": "code",
   "execution_count": 20,
   "id": "4ac1eead",
   "metadata": {},
   "outputs": [
    {
     "data": {
      "text/plain": [
       "'The number 55 is odd'"
      ]
     },
     "execution_count": 20,
     "metadata": {},
     "output_type": "execute_result"
    }
   ],
   "source": [
    "even_odd(55)"
   ]
  },
  {
   "cell_type": "code",
   "execution_count": 21,
   "id": "86b49678",
   "metadata": {},
   "outputs": [],
   "source": [
    "lst = {1,2,3,4,5,6,7,8,9,10,11,12,13}"
   ]
  },
  {
   "cell_type": "code",
   "execution_count": 24,
   "id": "e4ec41e7",
   "metadata": {},
   "outputs": [
    {
     "data": {
      "text/plain": [
       "['The number 1 is odd',\n",
       " 'The number 2 is even',\n",
       " 'The number 3 is odd',\n",
       " 'The number 4 is even',\n",
       " 'The number 5 is odd',\n",
       " 'The number 6 is even',\n",
       " 'The number 7 is odd',\n",
       " 'The number 8 is even',\n",
       " 'The number 9 is odd',\n",
       " 'The number 10 is even',\n",
       " 'The number 11 is odd',\n",
       " 'The number 12 is even',\n",
       " 'The number 13 is odd']"
      ]
     },
     "execution_count": 24,
     "metadata": {},
     "output_type": "execute_result"
    }
   ],
   "source": [
    "list(map(even_odd,lst))"
   ]
  },
  {
   "cell_type": "code",
   "execution_count": 23,
   "id": "295f4bc9",
   "metadata": {},
   "outputs": [
    {
     "ename": "TypeError",
     "evalue": "'type' object is not iterable",
     "output_type": "error",
     "traceback": [
      "\u001b[1;31m---------------------------------------------------------------------------\u001b[0m",
      "\u001b[1;31mTypeError\u001b[0m                                 Traceback (most recent call last)",
      "Input \u001b[1;32mIn [23]\u001b[0m, in \u001b[0;36m<cell line: 1>\u001b[1;34m()\u001b[0m\n\u001b[1;32m----> 1\u001b[0m \u001b[38;5;28;43mlist\u001b[39;49m\u001b[43m(\u001b[49m\u001b[38;5;28;43mmap\u001b[39;49m\u001b[43m)\u001b[49m\n",
      "\u001b[1;31mTypeError\u001b[0m: 'type' object is not iterable"
     ]
    }
   ],
   "source": [
    "list(map)"
   ]
  },
  {
   "cell_type": "code",
   "execution_count": 27,
   "id": "99d8fb2f",
   "metadata": {},
   "outputs": [
    {
     "data": {
      "text/plain": [
       "[2, 4, 6, 8, 10, 12]"
      ]
     },
     "execution_count": 27,
     "metadata": {},
     "output_type": "execute_result"
    }
   ],
   "source": [
    "list(filter(lambda num:num%2==0,lst))"
   ]
  },
  {
   "cell_type": "code",
   "execution_count": null,
   "id": "b65c3430",
   "metadata": {},
   "outputs": [],
   "source": []
  }
 ],
 "metadata": {
  "kernelspec": {
   "display_name": "Python 3 (ipykernel)",
   "language": "python",
   "name": "python3"
  },
  "language_info": {
   "codemirror_mode": {
    "name": "ipython",
    "version": 3
   },
   "file_extension": ".py",
   "mimetype": "text/x-python",
   "name": "python",
   "nbconvert_exporter": "python",
   "pygments_lexer": "ipython3",
   "version": "3.9.12"
  }
 },
 "nbformat": 4,
 "nbformat_minor": 5
}
